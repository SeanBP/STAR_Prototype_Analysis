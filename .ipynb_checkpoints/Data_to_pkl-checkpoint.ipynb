{
 "cells": [
  {
   "cell_type": "code",
   "execution_count": 1,
   "metadata": {},
   "outputs": [],
   "source": [
    "import numpy as np\n",
    "import pickle\n",
    "import time\n",
    "from collections import Counter\n",
    "import pandas as pd\n",
    "import matplotlib.pyplot as plt\n",
    "import mplhep as hep\n",
    "from datetime import datetime"
   ]
  },
  {
   "cell_type": "code",
   "execution_count": 2,
   "metadata": {},
   "outputs": [],
   "source": [
    "start_run = 200\n",
    "end_run = 200\n",
    "\n",
    "output_file_name = 'Run200_list.pkl'\n",
    "geometry = 'Prototype_Geometry_5-3-24.txt'\n",
    "boards = 3\n",
    "window = 1"
   ]
  },
  {
   "cell_type": "code",
   "execution_count": 3,
   "metadata": {},
   "outputs": [],
   "source": [
    "Tstamp_us = []\n",
    "Brd = []\n",
    "Ch = []\n",
    "LG = []\n",
    "HG = []\n",
    "\n",
    "\n",
    "file_start_time = None\n",
    "\n",
    "for run_number in range(start_run, end_run+1):\n",
    "    input_file_name = f\"Run{run_number}_list.txt\"\n",
    "    RunTstamp_us = []\n",
    "    RunBrd = []\n",
    "    RunCh = []\n",
    "    RunLG = []\n",
    "    RunHG = []\n",
    "\n",
    "    with open(input_file_name) as f:\n",
    "        lines = f.read().split('\\n')\n",
    "\n",
    "    last_tstamp = 0  # Initialize last timestamp for continuity across files\n",
    "\n",
    "    for i, line in enumerate(lines):\n",
    "        if i == 6:  # Line containing the start time\n",
    "            start_time_str = ' '.join(line.split()[4:-1])  # Extract start time string, excluding \"UTC\"\n",
    "            file_start_time = datetime.strptime(start_time_str, \"%a %b %d %H:%M:%S %Y\")\n",
    "            file_start_time = file_start_time.timestamp() * 1e6  # Convert to microseconds\n",
    "            #file_start_time = 0\n",
    "        elif i > 8:\n",
    "            data = line.split()\n",
    "\n",
    "            if len(data) == 6:\n",
    "                RunTstamp_us.append(float(data[0]) + file_start_time)\n",
    "                last_tstamp = float(data[0]) + file_start_time\n",
    "                RunBrd.append(int(data[2]))\n",
    "                RunCh.append(int(data[3]))\n",
    "                RunLG.append(int(data[4]))\n",
    "                RunHG.append(int(data[5]))\n",
    "    \n",
    "            elif len(data) == 4:\n",
    "                if last_tstamp is not None:\n",
    "                    RunTstamp_us.append(last_tstamp)\n",
    "                RunBrd.append(int(data[0]))\n",
    "                RunCh.append(int(data[1]))\n",
    "                RunLG.append(int(data[2]))\n",
    "                RunHG.append(int(data[3]))\n",
    "    \n",
    "    Tstamp_us.extend(RunTstamp_us)\n",
    "    Brd.extend(RunBrd)\n",
    "    Ch.extend(RunCh)\n",
    "    LG.extend(RunLG)\n",
    "    HG.extend(RunHG)\n",
    "\n",
    "Tstamp_us = np.array(Tstamp_us)\n",
    "Brd = np.array(Brd)\n",
    "Ch = np.array(Ch)\n",
    "LG = np.array(LG)\n",
    "HG = np.array(HG)"
   ]
  },
  {
   "cell_type": "code",
   "execution_count": 4,
   "metadata": {},
   "outputs": [
    {
     "name": "stdout",
     "output_type": "stream",
     "text": [
      "34556\n"
     ]
    },
    {
     "data": {
      "text/plain": [
       "<matplotlib.collections.PathCollection at 0x7f7da1cb7610>"
      ]
     },
     "execution_count": 4,
     "metadata": {},
     "output_type": "execute_result"
    },
    {
     "data": {
      "image/png": "[encoded data removed]",
      "text/plain": [
       "<Figure size 432x288 with 1 Axes>"
      ]
     },
     "metadata": {
      "needs_background": "light"
     },
     "output_type": "display_data"
    }
   ],
   "source": [
    "print(len(list(set(Tstamp_us))))\n",
    "\n",
    "plt.scatter(range(len(Tstamp_us)), Tstamp_us)"
   ]
  },
  {
   "cell_type": "code",
   "execution_count": 5,
   "metadata": {},
   "outputs": [],
   "source": [
    "# Find unique values and their indices\n",
    "unique_values, unique_indices = np.unique(Tstamp_us, return_index=True)\n",
    "\n",
    "# Sort the unique indices to maintain the order\n",
    "sorted_unique_indices = np.sort(unique_indices)\n",
    "\n",
    "# Get the unique values in the original order\n",
    "tstamps = Tstamp_us[sorted_unique_indices]\n",
    "brds = Brd[sorted_unique_indices]\n",
    "\n",
    "brd0 = []\n",
    "brd1 = []\n",
    "brd2 = []\n",
    "\n",
    "brdnum = 0\n",
    "\n",
    "b0 = 0\n",
    "b1 = 0\n",
    "b2 = 0\n",
    "b0n = 0\n",
    "b1n = 0\n",
    "b2n = 0\n",
    "\n",
    "# First, find potential full events to record average time delays\n",
    "for i in range(len(tstamps)):\n",
    "    if brdnum == 0:\n",
    "        b0  = tstamps[i]\n",
    "        brdnum = 1\n",
    "        b0n = brds[i]\n",
    "    elif (brdnum == 1) & (abs(tstamps[i]-b0) < 50000):\n",
    "        b1 = tstamps[i]\n",
    "        b1n = brds[i]\n",
    "        brdnum = 2\n",
    "    elif (brdnum == 2) & (abs(tstamps[i]-b0) < 50000):\n",
    "        b2 = tstamps[i]\n",
    "        b2n = brds[i]\n",
    "        \n",
    "        if (b0n != b1n) & (b0n != b2n) & (b1n != b2n):\n",
    "            brd0.append(b0)\n",
    "            brd1.append(b1)\n",
    "            brd2.append(b2)\n",
    "        brdnum = 0\n",
    "    else:\n",
    "        brdnum = 0\n",
    "        print(\"Skip\")\n",
    "        \n",
    "        \n",
    "diff1array = np.array(brd1) - np.array(brd0)\n",
    "diff2array = np.array(brd2) - np.array(brd0)\n",
    "\n",
    "diff1 = np.mean(diff1array)\n",
    "diff2 = np.mean(diff2array)\n",
    "\n",
    "diff1array = diff1array[abs(diff1array - diff1) < 1000]\n",
    "diff2array = diff2array[abs(diff2array - diff2) < 1000]\n",
    "diff1 = np.mean(diff1array)\n",
    "diff2 = np.mean(diff2array)\n"
   ]
  },
  {
   "cell_type": "code",
   "execution_count": 6,
   "metadata": {},
   "outputs": [
    {
     "data": {
      "text/plain": [
       "Text(0.5, 0, 'Time Stamp Entry #')"
      ]
     },
     "execution_count": 6,
     "metadata": {},
     "output_type": "execute_result"
    },
    {
     "data": {
      "image/png": "[encoded data removed]",
      "text/plain": [
       "<Figure size 864x288 with 2 Axes>"
      ]
     },
     "metadata": {
      "needs_background": "light"
     },
     "output_type": "display_data"
    }
   ],
   "source": [
    "fig, axs = plt.subplots(1, 2, figsize=(12, 4))\n",
    "axs[0].scatter(range(len(brd1)), (np.array(brd1) - np.array(brd0))-diff1)\n",
    "axs[0].set_title(\"Stamp Entry 1 - Stamp Entry 0\")\n",
    "axs[0].set_ylabel(\"Time Difference [us]\")\n",
    "axs[0].set_xlabel(\"Time Stamp Entry #\")\n",
    "\n",
    "axs[1].scatter(range(len(brd1)), (np.array(brd2) - np.array(brd0))-diff2)\n",
    "axs[1].set_title(\"Stamp Entry 2 - Stamp Entry 0\")\n",
    "axs[1].set_ylabel(\"Time Difference [us]\")\n",
    "axs[1].set_xlabel(\"Time Stamp Entry #\")\n"
   ]
  },
  {
   "cell_type": "code",
   "execution_count": 7,
   "metadata": {},
   "outputs": [],
   "source": [
    "brdnum = 0\n",
    "b0 = 0\n",
    "b1 = 0\n",
    "b2 = 0\n",
    "b0n = 0\n",
    "b1n = 0\n",
    "b2n = 0\n",
    "evt = 0\n",
    "evtIDs = np.zeros_like(Tstamp_us)\n",
    "evtIDs.fill(-1)\n",
    "\n",
    "# Now that the average time delays between boards are known, use this to identify events\n",
    "for i in range(len(tstamps)):\n",
    "    if brdnum == 0:\n",
    "        b0  = tstamps[i]\n",
    "        brdnum = 1\n",
    "        b0n = brds[i]\n",
    "    elif (brdnum == 1) & (abs((diff1-(abs(tstamps[i]-b0)))) < window):\n",
    "        b1 = tstamps[i]\n",
    "        b1n = brds[i]\n",
    "        brdnum = 2\n",
    "    elif (brdnum == 2) & (abs((diff2-(abs(tstamps[i]-b0)))) < window):\n",
    "        b2 = tstamps[i]\n",
    "        b2n = brds[i]\n",
    "        if (b0n != b1n) & (b0n != b2n) & (b1n != b2n):            \n",
    "            mask = (Tstamp_us == b0) | (Tstamp_us == b1) | (Tstamp_us == b2)\n",
    "            evtIDs[mask] = evt\n",
    "            \n",
    "            mask = (Tstamp_us == b1)\n",
    "            Tstamp_us[mask] = Tstamp_us[mask] - diff1\n",
    "            mask = (Tstamp_us == b2)\n",
    "            Tstamp_us[mask] = Tstamp_us[mask] - diff2\n",
    "            \n",
    "            evt = evt+1         \n",
    "        brdnum = 0\n",
    "    else:\n",
    "        brdnum = 0\n",
    "        \n",
    "mask = (evtIDs != -1)\n",
    "evtIDs = evtIDs[mask]\n",
    "Brd = Brd[mask]\n",
    "Ch = Ch[mask]\n",
    "LG = LG[mask]\n",
    "HG = HG[mask]\n",
    "Tstamp_us = Tstamp_us[mask]"
   ]
  },
  {
   "cell_type": "code",
   "execution_count": 11,
   "metadata": {},
   "outputs": [],
   "source": [
    "# Define empty lists for x, y, and z positions\n",
    "x_pos = []\n",
    "y_pos = []\n",
    "z_pos = []\n",
    "\n",
    "# Read coordinates from the text file\n",
    "with open(geometry, \"r\") as file:\n",
    "    coordinates = [eval(line.strip()) for line in file]\n",
    "\n",
    "# Calculate positions based on Ch and Brd values\n",
    "for i in range(len(Ch)):\n",
    "    total_channel = Ch[i] + (Brd[i] * 64)\n",
    "    if total_channel < len(coordinates):\n",
    "        x, y, z = coordinates[total_channel]\n",
    "        x_pos.append(x)\n",
    "        y_pos.append(y)\n",
    "        z_pos.append(z)\n",
    "    else:\n",
    "        print(f\"Error: total_channel value {total_channel} is out of range.\")"
   ]
  },
  {
   "cell_type": "code",
   "execution_count": 12,
   "metadata": {},
   "outputs": [],
   "source": [
    "events = pd.DataFrame({\n",
    "    'Brd': Brd,\n",
    "    'Ch': Ch,\n",
    "    'LG': LG,\n",
    "    'HG': HG,\n",
    "    'Tstamp_us': Tstamp_us,\n",
    "    'event_ids': evtIDs.astype(int),\n",
    "    'x_pos': x_pos,\n",
    "    'y_pos': y_pos,\n",
    "    'z_pos': z_pos,\n",
    "})"
   ]
  },
  {
   "cell_type": "code",
   "execution_count": 13,
   "metadata": {},
   "outputs": [],
   "source": [
    "with open(output_file_name, 'wb') as handle:\n",
    "    pickle.dump(events, handle, protocol=pickle.HIGHEST_PROTOCOL)\n",
    "    "
   ]
  },
  {
   "cell_type": "code",
   "execution_count": null,
   "metadata": {},
   "outputs": [],
   "source": []
  }
 ],
 "metadata": {
  "kernelspec": {
   "display_name": "Python 3",
   "language": "python",
   "name": "python3"
  },
  "language_info": {
   "codemirror_mode": {
    "name": "ipython",
    "version": 3
   },
   "file_extension": ".py",
   "mimetype": "text/x-python",
   "name": "python",
   "nbconvert_exporter": "python",
   "pygments_lexer": "ipython3",
   "version": "3.7.6"
  }
 },
 "nbformat": 4,
 "nbformat_minor": 4
}
