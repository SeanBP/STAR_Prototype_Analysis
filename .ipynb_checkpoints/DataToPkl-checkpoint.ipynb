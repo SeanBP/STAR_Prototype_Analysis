{
 "cells": [
  {
   "cell_type": "code",
   "execution_count": 31,
   "id": "a324b1a3-89f4-48e3-b1f2-ff5311bd7c81",
   "metadata": {},
   "outputs": [],
   "source": [
    "import numpy as np\n",
    "import pickle"
   ]
  },
  {
   "cell_type": "code",
   "execution_count": 32,
   "id": "f68e0ee6-1069-42b2-8f54-5a57af8e5241",
   "metadata": {},
   "outputs": [],
   "source": [
    "with open(f'Run8_list.txt') as f:\n",
    "    lines = f.read().split('\\n')\n",
    "    \n",
    "Tstamp_us = []\n",
    "Brd = []\n",
    "Ch = []\n",
    "LG = []\n",
    "HG = []\n",
    "last_tstamp = 0\n",
    "\n",
    "\n",
    "for i, line in enumerate(lines):\n",
    "    if i > 8:\n",
    "        data = line.split()\n",
    "    \n",
    "        if len(data) == 6:\n",
    "            Tstamp_us.append(float(data[0]))\n",
    "            last_tstamp = float(data[0])\n",
    "            Brd.append(int(data[2]))\n",
    "            Ch.append(int(data[3]))\n",
    "            LG.append(int(data[4]))\n",
    "            HG.append(int(data[5]))\n",
    "        if len(data) == 4:\n",
    "            Tstamp_us.append(last_tstamp)\n",
    "            Brd.append(int(data[0]))\n",
    "            Ch.append(int(data[1]))\n",
    "            LG.append(int(data[2]))\n",
    "            HG.append(int(data[3]))"
   ]
  },
  {
   "cell_type": "code",
   "execution_count": 33,
   "id": "83f963a4-0644-40e7-8424-55d7ac94196f",
   "metadata": {},
   "outputs": [],
   "source": [
    "events = []\n",
    "current_event = {'Tstamp_us': [], 'Brd': [], 'Ch': [], 'LG': [], 'HG': []}\n",
    "for i in range(len(Tstamp_us)):\n",
    "    if i == 0 or Tstamp_us[i] - current_event['Tstamp_us'][-1] < 5:\n",
    "        current_event['Tstamp_us'].append(Tstamp_us[i])\n",
    "        current_event['Brd'].append(Brd[i])\n",
    "        current_event['Ch'].append(Ch[i])\n",
    "        current_event['LG'].append(LG[i])\n",
    "        current_event['HG'].append(HG[i])\n",
    "    else:\n",
    "        events.append(current_event)\n",
    "        current_event = {'Tstamp_us': [Tstamp_us[i]], 'Brd': [Brd[i]], 'Ch': [Ch[i]], 'LG': [LG[i]], 'HG': [HG[i]]}\n",
    "\n",
    "# Add the last event\n",
    "events.append(current_event)"
   ]
  },
  {
   "cell_type": "code",
   "execution_count": 34,
   "id": "509a454d-aa2a-4bef-9239-ccf52cab2450",
   "metadata": {},
   "outputs": [],
   "source": [
    "with open('Run8_list.pickle', 'wb') as handle:\n",
    "    pickle.dump(events, handle, protocol=pickle.HIGHEST_PROTOCOL)"
   ]
  },
  {
   "cell_type": "code",
   "execution_count": null,
   "metadata": {},
   "outputs": [],
   "source": []
  }
 ],
 "metadata": {
  "kernelspec": {
   "display_name": "Python 3",
   "language": "python",
   "name": "python3"
  },
  "language_info": {
   "codemirror_mode": {
    "name": "ipython",
    "version": 3
   },
   "file_extension": ".py",
   "mimetype": "text/x-python",
   "name": "python",
   "nbconvert_exporter": "python",
   "pygments_lexer": "ipython3",
   "version": "3.7.6"
  }
 },
 "nbformat": 4,
 "nbformat_minor": 5
}
