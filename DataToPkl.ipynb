{
 "cells": [
  {
   "cell_type": "code",
   "execution_count": 10,
   "id": "a324b1a3-89f4-48e3-b1f2-ff5311bd7c81",
   "metadata": {},
   "outputs": [],
   "source": [
    "import numpy as np\n",
    "import pickle\n",
    "import time"
   ]
  },
  {
   "cell_type": "code",
   "execution_count": 11,
   "metadata": {},
   "outputs": [],
   "source": [
    "input_file_name = 'Run5_list.txt'\n",
    "output_file_name = 'Run5_list.pickle'\n",
    "filter_incomplete_evts = true"
   ]
  },
  {
   "cell_type": "code",
   "execution_count": 12,
   "id": "f68e0ee6-1069-42b2-8f54-5a57af8e5241",
   "metadata": {},
   "outputs": [],
   "source": [
    "start = time.time()\n",
    "with open(input_file_name) as f:\n",
    "    lines = f.read().split('\\n')\n",
    "    \n",
    "Tstamp_us = []\n",
    "Brd = []\n",
    "Ch = []\n",
    "LG = []\n",
    "HG = []\n",
    "last_tstamp = 0\n",
    "\n",
    "\n",
    "for i, line in enumerate(lines):\n",
    "    if i > 8:\n",
    "        data = line.split()\n",
    "    \n",
    "        if len(data) == 6:\n",
    "            Tstamp_us.append(float(data[0]))\n",
    "            last_tstamp = float(data[0])\n",
    "            Brd.append(int(data[2]))\n",
    "            Ch.append(int(data[3]))\n",
    "            LG.append(int(data[4]))\n",
    "            HG.append(int(data[5]))\n",
    "        if len(data) == 4:\n",
    "            Tstamp_us.append(last_tstamp)\n",
    "            Brd.append(int(data[0]))\n",
    "            Ch.append(int(data[1]))\n",
    "            LG.append(int(data[2]))\n",
    "            HG.append(int(data[3]))\n",
    "            \n",
    "middle = time.time()"
   ]
  },
  {
   "cell_type": "code",
   "execution_count": 13,
   "id": "83f963a4-0644-40e7-8424-55d7ac94196f",
   "metadata": {},
   "outputs": [],
   "source": [
    "events = []\n",
    "current_event = {'Tstamp_us': [], 'Brd': [], 'Ch': [], 'LG': [], 'HG': []}\n",
    "for i in range(len(Tstamp_us)):\n",
    "    if i == 0 or Tstamp_us[i] - current_event['Tstamp_us'][-1] < 5:\n",
    "        current_event['Tstamp_us'].append(Tstamp_us[i])\n",
    "        current_event['Brd'].append(Brd[i])\n",
    "        current_event['Ch'].append(Ch[i])\n",
    "        current_event['LG'].append(LG[i])\n",
    "        current_event['HG'].append(HG[i])\n",
    "    else:\n",
    "        events.append(current_event)\n",
    "        current_event = {'Tstamp_us': [Tstamp_us[i]], 'Brd': [Brd[i]], 'Ch': [Ch[i]], 'LG': [LG[i]], 'HG': [HG[i]]}\n",
    "\n",
    "events.append(current_event)\n",
    "\n",
    "if(filter_incomplete_evts):\n",
    "    events = [event for event in events if len(event.get('LG', [])) >= 192]\n",
    "\n",
    "end = time.time()\n"
   ]
  },
  {
   "cell_type": "code",
   "execution_count": 14,
   "id": "509a454d-aa2a-4bef-9239-ccf52cab2450",
   "metadata": {},
   "outputs": [
    {
     "name": "stdout",
     "output_type": "stream",
     "text": [
      "0.6323316017786662\n",
      "0.4109051704406738\n",
      "1.04323677221934\n"
     ]
    }
   ],
   "source": [
    "with open(output_file_name, 'wb') as handle:\n",
    "    pickle.dump(events, handle, protocol=pickle.HIGHEST_PROTOCOL)\n",
    "    \n",
    "print((middle - start)/60)\n",
    "print((end - middle)/60)\n",
    "print((end - start)/60)\n",
    "print(len(events))"
   ]
  },
  {
   "cell_type": "code",
   "execution_count": 20,
   "metadata": {},
   "outputs": [
    {
     "name": "stdout",
     "output_type": "stream",
     "text": [
      "192\n"
     ]
    }
   ],
   "source": []
  },
  {
   "cell_type": "code",
   "execution_count": null,
   "metadata": {},
   "outputs": [],
   "source": []
  }
 ],
 "metadata": {
  "kernelspec": {
   "display_name": "Python 3",
   "language": "python",
   "name": "python3"
  },
  "language_info": {
   "codemirror_mode": {
    "name": "ipython",
    "version": 3
   },
   "file_extension": ".py",
   "mimetype": "text/x-python",
   "name": "python",
   "nbconvert_exporter": "python",
   "pygments_lexer": "ipython3",
   "version": "3.7.6"
  }
 },
 "nbformat": 4,
 "nbformat_minor": 5
}
