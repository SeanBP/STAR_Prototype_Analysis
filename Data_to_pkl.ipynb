{
 "cells": [
  {
   "cell_type": "code",
   "execution_count": 1,
   "metadata": {},
   "outputs": [],
   "source": [
    "import numpy as np\n",
    "import pickle\n",
    "import time\n",
    "from collections import Counter\n",
    "import pandas as pd\n",
    "import matplotlib.pyplot as plt\n",
    "import mplhep as hep\n",
    "from datetime import datetime"
   ]
  },
  {
   "cell_type": "code",
   "execution_count": 2,
   "metadata": {},
   "outputs": [],
   "source": [
    "start_run = 200\n",
    "end_run = 200\n",
    "\n",
    "output_file_name = 'Run200_list.pkl'\n",
    "geometry = 'Prototype_Geometry_5-3-24.txt'\n",
    "boards = 3\n",
    "window = 1"
   ]
  },
  {
   "cell_type": "code",
   "execution_count": 59,
   "metadata": {},
   "outputs": [],
   "source": [
    "Tstamp_us = []\n",
    "Brd = []\n",
    "Ch = []\n",
    "LG = []\n",
    "HG = []\n",
    "totHits = 0\n",
    "\n",
    "\n",
    "file_start_time = None\n",
    "\n",
    "for run_number in range(start_run, end_run+1):\n",
    "    input_file_name = f\"Run{run_number}_list.txt\"\n",
    "    RunTstamp_us = []\n",
    "    RunBrd = []\n",
    "    RunCh = []\n",
    "    RunLG = []\n",
    "    RunHG = []\n",
    "\n",
    "    with open(input_file_name) as f:\n",
    "        lines = f.read().split('\\n')\n",
    "\n",
    "    last_tstamp = 0  # Initialize last timestamp for continuity across files\n",
    "\n",
    "    for i, line in enumerate(lines):\n",
    "        if i == 6:  # Line containing the start time\n",
    "            start_time_str = ' '.join(line.split()[4:-1])  # Extract start time string, excluding \"UTC\"\n",
    "            file_start_time = datetime.strptime(start_time_str, \"%a %b %d %H:%M:%S %Y\")\n",
    "            file_start_time = file_start_time.timestamp() * 1e6  # Convert to microseconds\n",
    "            #file_start_time = 0\n",
    "        elif i > 8:\n",
    "            data = line.split()\n",
    "\n",
    "            if len(data) == 6:\n",
    "                RunTstamp_us.append(float(data[0]) + file_start_time)\n",
    "                last_tstamp = float(data[0]) + file_start_time\n",
    "                RunBrd.append(int(data[2]))\n",
    "                RunCh.append(int(data[3]))\n",
    "                RunLG.append(int(data[4]))\n",
    "                RunHG.append(int(data[5]))\n",
    "                totHits += 1\n",
    "    \n",
    "            elif len(data) == 4:\n",
    "                if last_tstamp is not None:\n",
    "                    RunTstamp_us.append(last_tstamp)\n",
    "                RunBrd.append(int(data[0]))\n",
    "                RunCh.append(int(data[1]))\n",
    "                RunLG.append(int(data[2]))\n",
    "                RunHG.append(int(data[3]))\n",
    "                totHits += 1\n",
    "    \n",
    "    Tstamp_us.extend(RunTstamp_us)\n",
    "    Brd.extend(RunBrd)\n",
    "    Ch.extend(RunCh)\n",
    "    LG.extend(RunLG)\n",
    "    HG.extend(RunHG)\n",
    "\n",
    "Tstamp_us = np.array(Tstamp_us)\n",
    "Brd = np.array(Brd)\n",
    "Ch = np.array(Ch)\n",
    "LG = np.array(LG)\n",
    "HG = np.array(HG)"
   ]
  },
  {
   "cell_type": "code",
   "execution_count": 60,
   "metadata": {},
   "outputs": [],
   "source": [
    "# Determine average time differences between time stamp entries\n",
    "\n",
    "# Find unique values and their indices\n",
    "unique_values, unique_indices = np.unique(Tstamp_us, return_index=True)\n",
    "\n",
    "# Sort the unique indices to maintain the order\n",
    "sorted_unique_indices = np.sort(unique_indices)\n",
    "\n",
    "# Get the unique values in the original order\n",
    "tstamps = Tstamp_us[sorted_unique_indices]\n",
    "brds = Brd[sorted_unique_indices]\n",
    "\n",
    "brd0 = []\n",
    "brd1 = []\n",
    "brd2 = []\n",
    "brdnum = 0\n",
    "i = 0\n",
    "while i < len(tstamps):\n",
    "    if brdnum == 0:\n",
    "        brdnum = 1\n",
    "    elif (brdnum == 1) & (abs(tstamps[i]-tstamps[i-1]) < 50000):\n",
    "        brdnum = 2\n",
    "    elif (brdnum == 2) & (abs(tstamps[i]-tstamps[i-2]) < 50000):      \n",
    "        if (brds[i-2] != brds[i-1]) & (brds[i-2] != brds[i]) & (brds[i-1] != brds[i]):\n",
    "            brd0.append(tstamps[i-2])\n",
    "            brd1.append(tstamps[i-1])\n",
    "            brd2.append(tstamps[i])\n",
    "        brdnum = 0\n",
    "    else:\n",
    "        brdnum = 0\n",
    "    i += 1\n",
    "\n",
    "# Convert lists to arrays\n",
    "brd0 = np.array(brd0)\n",
    "brd1 = np.array(brd1)\n",
    "brd2 = np.array(brd2)\n",
    "\n",
    "diff1array = brd1 - brd0\n",
    "diff2array = brd2 - brd0\n",
    "\n",
    "diff1 = np.mean(diff1array)\n",
    "diff2 = np.mean(diff2array)\n",
    "\n",
    "diff1array = diff1array[abs(diff1array - diff1) < 1000]\n",
    "diff2array = diff2array[abs(diff2array - diff2) < 1000]\n",
    "diff1 = np.mean(diff1array)\n",
    "diff2 = np.mean(diff2array)\n"
   ]
  },
  {
   "cell_type": "code",
   "execution_count": 69,
   "metadata": {},
   "outputs": [
    {
     "data": {
      "text/plain": [
       "Text(0.5, 0, 'Time Stamp Entry #')"
      ]
     },
     "execution_count": 69,
     "metadata": {},
     "output_type": "execute_result"
    },
    {
     "data": {
      "image/png": "[encoded data removed]",
      "text/plain": [
       "<Figure size 864x288 with 2 Axes>"
      ]
     },
     "metadata": {},
     "output_type": "display_data"
    }
   ],
   "source": [
    "# Ideally, the vast majority of time differences should here be centered at zero\n",
    "# If so, we can now really use these time offset values to determine the true time stamps, and build events\n",
    "plt.rcParams['figure.facecolor'] = 'white'\n",
    "plt.rcParams['savefig.facecolor'] = 'white'\n",
    "plt.rcParams['savefig.bbox'] = 'tight'\n",
    "fig, axs = plt.subplots(1, 2, figsize=(12, 4))\n",
    "axs[0].scatter(range(len(brd1)), (np.array(brd1) - np.array(brd0))-diff1)\n",
    "axs[0].set_title(output_file_name+\" Stamp Entry 1 - Stamp Entry 0\")\n",
    "axs[0].set_ylabel(\"Time Difference [us]\")\n",
    "axs[0].set_xlabel(\"Time Stamp Entry #\")\n",
    "\n",
    "axs[1].scatter(range(len(brd1)), (np.array(brd2) - np.array(brd0))-diff2)\n",
    "axs[1].set_title(\"Stamp Entry 2 - Stamp Entry 0\")\n",
    "axs[1].set_ylabel(\"Time Difference [us]\")\n",
    "axs[1].set_xlabel(\"Time Stamp Entry #\")\n"
   ]
  },
  {
   "cell_type": "code",
   "execution_count": 62,
   "metadata": {},
   "outputs": [],
   "source": [
    "# Readjust time stamp values given diff1 and diff2, and build events\n",
    "\n",
    "brdnum = 0\n",
    "evt = 0\n",
    "evtIDs = np.zeros_like(Tstamp_us)\n",
    "evtIDs.fill(-1)\n",
    "\n",
    "for i in range(len(tstamps)):\n",
    "    if brdnum == 0:\n",
    "        brdnum = 1\n",
    "    elif (brdnum == 1) & (abs((diff1-(abs(tstamps[i]-tstamps[i-1])))) < window):\n",
    "        brdnum = 2\n",
    "    elif (brdnum == 2) & (abs((diff2-(abs(tstamps[i]-tstamps[i-2])))) < window):\n",
    "        if (brds[i-2] != brds[i-1]) & (brds[i-2] != brds[i]) & (brds[i-1] != brds[i]):            \n",
    "            mask = (Tstamp_us == tstamps[i-2]) | (Tstamp_us == tstamps[i-1]) | (Tstamp_us == tstamps[i])\n",
    "            evtIDs[mask] = evt\n",
    "            mask = (Tstamp_us == tstamps[i-1])\n",
    "            Tstamp_us[mask] -=  diff1\n",
    "            mask = (Tstamp_us == tstamps[i])\n",
    "            Tstamp_us[mask] -= diff2\n",
    "            evt = evt+1         \n",
    "        brdnum = 0\n",
    "    else:\n",
    "        brdnum = 0\n",
    "        \n",
    "# Remove events that were not fully built\n",
    "# Count occurrences of each value in evtIDs\n",
    "unique_values, counts = np.unique(evtIDs, return_counts=True)\n",
    "\n",
    "# Find indices where the count is not equal to 64*3 and where evtIDs != -1\n",
    "indices_to_remove = np.where((counts != 64*3) | (unique_values == -1))[0]\n",
    "\n",
    "# Create a mask to filter out elements to remove\n",
    "mask = np.isin(evtIDs, unique_values[indices_to_remove])\n",
    "\n",
    "# Filter both arrays\n",
    "evtIDs_filtered = evtIDs[~mask]\n",
    "LG_filtered = LG[~mask]\n",
    "\n",
    "evtIDs = evtIDs[~mask]\n",
    "Brd = Brd[~mask]\n",
    "Ch = Ch[~mask]\n",
    "LG = LG[~mask]\n",
    "HG = HG[~mask]\n",
    "Tstamp_us = Tstamp_us[~mask]"
   ]
  },
  {
   "cell_type": "code",
   "execution_count": 67,
   "metadata": {},
   "outputs": [
    {
     "name": "stdout",
     "output_type": "stream",
     "text": [
      "Hit pass rate percentage: 95.10649380715361%\n"
     ]
    }
   ],
   "source": [
    "print(\"Hit pass rate percentage: \"+str(100 - (100*(totHits - len(evtIDs))/totHits))+\"%\")\n"
   ]
  },
  {
   "cell_type": "code",
   "execution_count": 11,
   "metadata": {},
   "outputs": [],
   "source": [
    "# Define empty lists for x, y, and z positions\n",
    "x_pos = []\n",
    "y_pos = []\n",
    "z_pos = []\n",
    "\n",
    "# Read coordinates from the text file\n",
    "with open(geometry, \"r\") as file:\n",
    "    coordinates = [eval(line.strip()) for line in file]\n",
    "\n",
    "# Calculate positions based on Ch and Brd values\n",
    "for i in range(len(Ch)):\n",
    "    total_channel = Ch[i] + (Brd[i] * 64)\n",
    "    if total_channel < len(coordinates):\n",
    "        x, y, z = coordinates[total_channel]\n",
    "        x_pos.append(x)\n",
    "        y_pos.append(y)\n",
    "        z_pos.append(z)\n",
    "    else:\n",
    "        print(f\"Error: total_channel value {total_channel} is out of range.\")"
   ]
  },
  {
   "cell_type": "code",
   "execution_count": 12,
   "metadata": {},
   "outputs": [],
   "source": [
    "events = pd.DataFrame({\n",
    "    'Brd': Brd,\n",
    "    'Ch': Ch,\n",
    "    'LG': LG,\n",
    "    'HG': HG,\n",
    "    'Tstamp_us': Tstamp_us,\n",
    "    'event_ids': evtIDs.astype(int),\n",
    "    'x_pos': x_pos,\n",
    "    'y_pos': y_pos,\n",
    "    'z_pos': z_pos,\n",
    "})"
   ]
  },
  {
   "cell_type": "code",
   "execution_count": 13,
   "metadata": {},
   "outputs": [],
   "source": [
    "with open(output_file_name, 'wb') as handle:\n",
    "    pickle.dump(events, handle, protocol=pickle.HIGHEST_PROTOCOL)\n",
    "    "
   ]
  },
  {
   "cell_type": "code",
   "execution_count": null,
   "metadata": {},
   "outputs": [],
   "source": []
  }
 ],
 "metadata": {
  "kernelspec": {
   "display_name": "Python 3",
   "language": "python",
   "name": "python3"
  },
  "language_info": {
   "codemirror_mode": {
    "name": "ipython",
    "version": 3
   },
   "file_extension": ".py",
   "mimetype": "text/x-python",
   "name": "python",
   "nbconvert_exporter": "python",
   "pygments_lexer": "ipython3",
   "version": "3.7.6"
  }
 },
 "nbformat": 4,
 "nbformat_minor": 4
}
